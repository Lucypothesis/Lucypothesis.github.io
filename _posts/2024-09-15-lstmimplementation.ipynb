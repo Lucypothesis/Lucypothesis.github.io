---
title: 'LSTM 구현하기'
date: 2024-09-17
permalink: /posts/2024/09/lstmimplementation/
tags:
  - cool posts
  - category1
  - category2
---

{
  "nbformat": 4,
  "nbformat_minor": 0,
  "metadata": {
    "colab": {
      "provenance": []
    },
    "kernelspec": {
      "name": "python3",
      "display_name": "Python 3"
    },
    "language_info": {
      "name": "python"
    }
  },
  "cells": [
    {
      "cell_type": "markdown",
      "source": [
        "# LSTM 구현하기"
      ],
      "metadata": {
        "id": "Vjio1Q6vsyIR"
      }
    },
    {
      "cell_type": "markdown",
      "source": [
        "참고문헌: 책 『밑바닥부터 시작하는 딥러닝2』 Chapter6. 게이트가 추가된 RNN"
      ],
      "metadata": {
        "id": "J3CeNwtrtJtW"
      }
    },
    {
      "cell_type": "markdown",
      "source": [
        "**~ 목차 ~**\n",
        "0. 서론- 왜 LSTM을 구현하고 있는가   \n",
        "1. LSTM 개념   \n",
        "  1.1 RNN의 문제점    \n",
        "  1.2 기울기 폭발 대책- 기울기 클리핑    \n",
        "  1.3 기울기 소실 대책- LSTM    \n",
        "2. LSTM 구현   \n",
        "3. Time LSTM 구현(계층 전체)\n",
        "4. 소감"
      ],
      "metadata": {
        "id": "RjCHk_OVs0Hc"
      }
    },
    {
      "cell_type": "markdown",
      "source": [
        "## 0. 서론- 왜 LSTM을 구현하고 있는가"
      ],
      "metadata": {
        "id": "oRD3ZXsVtETO"
      }
    },
    {
      "cell_type": "markdown",
      "source": [
        "- 이것 역시 연휴맞이 **기본기** 다지기의 일환이다. 기본기라고 하기엔 너무 기본적인 이론인가 싶지만 뭐.. 암튼\n",
        "- 이번에도 국룰 책 『밑바닥부터 시작하는 딥러닝2』의 Chapter6. 게이트가 추가된 RNN을 참고했다."
      ],
      "metadata": {
        "id": "no_jOtiUxIVe"
      }
    },
    {
      "cell_type": "markdown",
      "source": [
        "## 1. LSTM 개념"
      ],
      "metadata": {
        "id": "-B5aQel4xysu"
      }
    },
    {
      "cell_type": "markdown",
      "source": [
        "### 1.1 RNN의 문제점"
      ],
      "metadata": {
        "id": "MaktqrT5zJ2k"
      }
    },
    {
      "cell_type": "markdown",
      "source": [
        "- **기울기 소실이나 폭발**때문에 **장기 의존 관계**를 학습하기가 어려움\n",
        "  - RNN의 역전파에서 기울기는 tanh, +, matmul 연산을 통과하게 되는데,\n",
        "    - **tanh**: tanh값의 미분값은 0에서 1사이의 값으로, 노드를 통과하면 통과할수록 기울기는 작아짐\n",
        "    - +: 영향을 미치지 않음\n",
        "    - **matmul**: 초기값에 따라서 기울기가 시간에 비례해서 폭발하거나 소실됨\n",
        "  - 가중치 Wh가 **스칼라**일 때, Wh > 1이면 지수적으로 증가하고 Wh < 1이면 지수적으로 감소함\n",
        "  - 하지만 가중치 Wh가 **행렬**일 때, 행렬의 '특잇값' 즉 데이터가 얼마나 퍼져 있는지가 기울기 변화의 척도가 됨\n",
        "    - 주의할 점: 특잇값의 최댓값이 1보다 크면 지수적으로 증가하고, 1보다 작으면 지수적으로 감소할 **확률이 높음**. 반드시 그런 건 아님(그런가보다하고 일단 이유는 패스하겠음)"
      ],
      "metadata": {
        "id": "QkW2lYn1zNjs"
      }
    },
    {
      "cell_type": "markdown",
      "source": [
        "### 1.2 기울기 폭발 대책- 기울기 클리핑"
      ],
      "metadata": {
        "id": "R7uJK4SKzL44"
      }
    },
    {
      "cell_type": "markdown",
      "source": [
        "- $g = \\frac{g}{||g||} \\times \\text{threshold}$\n",
        "\n",
        "- 문턱값 threshold를 설정한 뒤, 기울기의 L2 norm(${||g||}$)이 threshold를 초과하면 기울기를 수정하는 방법임"
      ],
      "metadata": {
        "id": "kS-CH5I18Kq_"
      }
    },
    {
      "cell_type": "code",
      "source": [
        "import numpy as np\n",
        "\n",
        "dW1 = np.random.rand(3,3) * 10\n",
        "dW2 = np.random.rand(3,3) * 10\n",
        "grads = [dW1, dW2]\n",
        "max_norm = 5.0\n",
        "\n",
        "def clip_grads(grads, max_norm):\n",
        "  # L2 norm 계산\n",
        "  total_norm = 0\n",
        "  for grad in grads:\n",
        "    total_norm += np.sum(grad ** 2)\n",
        "  total_norm = np.sqrt(total_norm)\n",
        "\n",
        "  # 클리핑 비율 계산\n",
        "  rate = max_norm / (total_norm + 1e-6)\n",
        "\n",
        "  # rate가 1보다 작으면 기울기 클리핑 실행, 아니면 변경x\n",
        "  if rate < 1:\n",
        "    for grad in grads:\n",
        "      grad *= rate"
      ],
      "metadata": {
        "id": "2ffPWvef8mKQ"
      },
      "execution_count": null,
      "outputs": []
    },
    {
      "cell_type": "markdown",
      "source": [
        "### 1.3 기울기 소실 대책- LSTM\n",
        "- 기울기 폭발은 기울기 클리핑 기법을 사용하면 해결되지만, 기울기 소실은 전체적인 모델 구조를 뜯어 고쳐야 함"
      ],
      "metadata": {
        "id": "2Ssr_Zwo7Y5s"
      }
    },
    {
      "cell_type": "markdown",
      "source": [
        "## 2. LSTM 구현"
      ],
      "metadata": {
        "id": "2rBgpz1Jx0H2"
      }
    },
    {
      "cell_type": "markdown",
      "source": [
        "## 3. Time LSTM 구현(계층 전체)"
      ],
      "metadata": {
        "id": "bcCba8tryGF1"
      }
    },
    {
      "cell_type": "markdown",
      "source": [
        "## 4. 소감"
      ],
      "metadata": {
        "id": "xmkXEgAYyG4M"
      }
    }
  ]
}
